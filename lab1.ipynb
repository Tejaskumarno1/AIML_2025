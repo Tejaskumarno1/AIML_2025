{
  "nbformat": 4,
  "nbformat_minor": 0,
  "metadata": {
    "colab": {
      "provenance": [],
      "authorship_tag": "ABX9TyMw7WQ1dgQtuXznJbNtwR6h",
      "include_colab_link": true
    },
    "kernelspec": {
      "name": "python3",
      "display_name": "Python 3"
    },
    "language_info": {
      "name": "python"
    }
  },
  "cells": [
    {
      "cell_type": "markdown",
      "metadata": {
        "id": "view-in-github",
        "colab_type": "text"
      },
      "source": [
        "<a href=\"https://colab.research.google.com/github/Tejaskumarno1/AIML_2025/blob/main/lab1.ipynb\" target=\"_parent\"><img src=\"https://colab.research.google.com/assets/colab-badge.svg\" alt=\"Open In Colab\"/></a>"
      ]
    },
    {
      "cell_type": "code",
      "execution_count": 1,
      "metadata": {
        "colab": {
          "base_uri": "https://localhost:8080/"
        },
        "id": "UazXzacBr5mX",
        "outputId": "d1d99fcd-29f6-4858-fef6-3629871df975"
      },
      "outputs": [
        {
          "output_type": "execute_result",
          "data": {
            "text/plain": [
              "([1, 2, 3, 4], array([1, 2, 3, 4]), array([1, 2, 3, 4]))"
            ]
          },
          "metadata": {},
          "execution_count": 1
        }
      ],
      "source": [
        "import numpy as np\n",
        "import matplotlib.pyplot as plt\n",
        "import pandas as pd\n",
        "\n",
        "list1 = [1,2,3,4,]\n",
        "array1 = np.array(list1)\n",
        "array1\n",
        "array2 = np.array([1,2,3,4])\n",
        "list1,array1,array2"
      ]
    },
    {
      "cell_type": "code",
      "source": [
        "type(list1),type(array1),type(array2)"
      ],
      "metadata": {
        "colab": {
          "base_uri": "https://localhost:8080/"
        },
        "id": "wSpCOe52siF6",
        "outputId": "efcc17e7-ce61-483c-9ec6-981e8f22bba9"
      },
      "execution_count": 2,
      "outputs": [
        {
          "data": {
            "text/plain": [
              "(list, numpy.ndarray, numpy.ndarray)"
            ]
          },
          "execution_count": 2,
          "metadata": {},
          "output_type": "execute_result"
        }
      ]
    },
    {
      "cell_type": "code",
      "source": [
        "print(\"Adding 2 arrays: array1 + array2\")\n",
        "print(\"sub 2 arrays: array1 - array2\")\n",
        "print(\"Multiply 2 arrays: array1 * array2\")\n",
        "print(\"div 2 arrays: array1 / array2\")\n",
        "print(\"Exponentiating 2 arrays: array1 ** array2\")\n",
        "print(\"Multiply  array to list1: array2 * list1\")"
      ],
      "metadata": {
        "colab": {
          "base_uri": "https://localhost:8080/"
        },
        "id": "IV2nnGVFskkB",
        "outputId": "9d3a91f9-1f51-4b74-a5c3-0425eac31d58"
      },
      "execution_count": 3,
      "outputs": [
        {
          "output_type": "stream",
          "name": "stdout",
          "text": [
            "Adding 2 arrays: array1 + array2\n",
            "sub 2 arrays: array1 - array2\n",
            "Multiply 2 arrays: array1 * array2\n",
            "div 2 arrays: array1 / array2\n",
            "Exponentiating 2 arrays: array1 ** array2\n",
            "Multiply  array to list1: array2 * list1\n"
          ]
        }
      ]
    },
    {
      "cell_type": "code",
      "source": [
        "print(f\"Adding{array1 + array2}\")\n",
        "print(f\"sub{array1 - array2}\")\n",
        "print(f\"Multiply{array1 * array2}\")\n",
        "print(f\"div{array1 / array2}\")\n",
        "print(f\"Exponentiating{array1 ** array2}\")\n",
        "print(f\"Multiply  array to list1{array2 * list1}\")"
      ],
      "metadata": {
        "colab": {
          "base_uri": "https://localhost:8080/"
        },
        "id": "oi6kHLzIspz0",
        "outputId": "96b1670b-1731-4cf9-e2ab-2f68cbc858b3"
      },
      "execution_count": 4,
      "outputs": [
        {
          "output_type": "stream",
          "name": "stdout",
          "text": [
            "Adding[2 4 6 8]\n",
            "sub[0 0 0 0]\n",
            "Multiply[ 1  4  9 16]\n",
            "div[1. 1. 1. 1.]\n",
            "Exponentiating[  1   4  27 256]\n",
            "Multiply  array to list1[ 1  4  9 16]\n"
          ]
        }
      ]
    },
    {
      "cell_type": "code",
      "source": [
        "print(f\"Sine value of array1:{ np.sin(array1)}\")\n",
        "print(f\"log value of array1:{ np.log(array1)}\")\n",
        "print(f\"log base2 value of array1:{ np.log2(array1)}\")\n",
        "print(f\"log base10 value of array1:{ np.log10(array1)}\")\n"
      ],
      "metadata": {
        "colab": {
          "base_uri": "https://localhost:8080/"
        },
        "id": "y9yjsojjs-AE",
        "outputId": "268d644c-3cc0-41e6-8e1b-0ab7b88105e0"
      },
      "execution_count": 5,
      "outputs": [
        {
          "output_type": "stream",
          "name": "stdout",
          "text": [
            "Sine value of array1:[ 0.84147098  0.90929743  0.14112001 -0.7568025 ]\n",
            "log value of array1:[0.         0.69314718 1.09861229 1.38629436]\n",
            "log base2 value of array1:[0.        1.        1.5849625 2.       ]\n",
            "log base10 value of array1:[0.         0.30103    0.47712125 0.60205999]\n"
          ]
        }
      ]
    }
  ]
}